{
 "cells": [
  {
   "cell_type": "markdown",
   "metadata": {},
   "source": [
    "<img src=\"./iris-machinelearning.png\" height=60 />\n",
    "Ref[1]"
   ]
  },
  {
   "cell_type": "markdown",
   "metadata": {},
   "source": [
    "## FYS: Artificial Intelligence - Opportunities and Responsibilities "
   ]
  },
  {
   "cell_type": "markdown",
   "metadata": {},
   "source": [
    "    Part 1: Project Introduction \n",
    "    Part 2: Mathematics needed for our project\n",
    "    Part 3: Loading and exploring data\n",
    "    Part 4: Changing math equations into code and building a machine learning model\n",
    "    Part 5: Training the model\n",
    "    Part 6: making predictions with a trained model\n",
    "    Part 7: Conclusion/Next steps"
   ]
  },
  {
   "cell_type": "markdown",
   "metadata": {},
   "source": [
    "### Part 1: Project Introduction "
   ]
  },
  {
   "cell_type": "markdown",
   "metadata": {},
   "source": [
    "**Goal:** By the end of the course, we woulf have created a machine learning model that can classify the different species of the Iris flower. With the right data, this could be extended to any classification problem.\n",
    "<img src=\"dataset_visual.png\"/>\n",
    "Ref[2]"
   ]
  },
  {
   "cell_type": "markdown",
   "metadata": {},
   "source": [
    "**About the data:** The <a href=\"https://www.wikiwand.com/en/Iris_flower_data_set\">Iris flower data set or Fisher's Iris data set </a> is a multivariate data set introduced by the British statistician, eugenicist, and biologist Ronald Fisher in his 1936 paper titled \"The use of multiple measurements in taxonomic problems\" as an example of linear discriminant analysis."
   ]
  },
  {
   "cell_type": "markdown",
   "metadata": {},
   "source": [
    "This is a small dataset commonly used to test Machine Learning classification models.\n",
    "The dataset consists of 150 samples of measurements taken from 3 species of Iris flowers. The original dataset can be found here <a href=\"https://archive.ics.uci.edu/ml/datasets/iris\"> Here </a>"
   ]
  },
  {
   "cell_type": "markdown",
   "metadata": {},
   "source": [
    "Why did we choose this dataset? \n",
    "1. It is a small dataset with easy to understand class distinctions\n",
    "2. it is relatively simple to train a neural network or any other machine learning model on this dataset to recognize those classes.\n",
    "3. It is easy to fit this data in memory and train on it on a relatively good machine without need for extra computational power"
   ]
  },
  {
   "cell_type": "code",
   "execution_count": null,
   "metadata": {},
   "outputs": [],
   "source": []
  },
  {
   "cell_type": "code",
   "execution_count": null,
   "metadata": {},
   "outputs": [],
   "source": []
  },
  {
   "cell_type": "code",
   "execution_count": null,
   "metadata": {},
   "outputs": [],
   "source": []
  },
  {
   "cell_type": "code",
   "execution_count": null,
   "metadata": {},
   "outputs": [],
   "source": []
  },
  {
   "cell_type": "code",
   "execution_count": null,
   "metadata": {},
   "outputs": [],
   "source": []
  },
  {
   "cell_type": "code",
   "execution_count": null,
   "metadata": {},
   "outputs": [],
   "source": []
  },
  {
   "cell_type": "code",
   "execution_count": null,
   "metadata": {},
   "outputs": [],
   "source": []
  },
  {
   "cell_type": "code",
   "execution_count": null,
   "metadata": {},
   "outputs": [],
   "source": []
  },
  {
   "cell_type": "code",
   "execution_count": null,
   "metadata": {},
   "outputs": [],
   "source": []
  },
  {
   "cell_type": "code",
   "execution_count": null,
   "metadata": {},
   "outputs": [],
   "source": []
  },
  {
   "cell_type": "markdown",
   "metadata": {},
   "source": [
    "References\n",
    "1: Banner Image.https://s3.amazonaws.com/assets.datacamp.com/blog_assets/Machine+Learning+R/iris-machinelearning.png\n",
    "2. Data Explanation Image: https://medium.com/@jebaseelanravi96/machine-learning-iris-classification-33aa18a4a983"
   ]
  }
 ],
 "metadata": {
  "kernelspec": {
   "display_name": "Python (tensorflow_env)",
   "language": "python",
   "name": "tf"
  },
  "language_info": {
   "codemirror_mode": {
    "name": "ipython",
    "version": 3
   },
   "file_extension": ".py",
   "mimetype": "text/x-python",
   "name": "python",
   "nbconvert_exporter": "python",
   "pygments_lexer": "ipython3",
   "version": "3.8.3"
  }
 },
 "nbformat": 4,
 "nbformat_minor": 4
}
